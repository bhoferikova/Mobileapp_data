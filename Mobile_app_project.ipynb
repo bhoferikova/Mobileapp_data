{
 "cells": [
  {
   "cell_type": "markdown",
   "source": [
    "# Analyzing of Mobile Apps Data\n",
    "\n",
    "Hello, this is my first project in Jupyter and the aim of this project is to find mobile apps which are profitable in Apple store and Google Play Market.\n",
    "All sample data sets are available online:\n",
    "\n",
    "1. **[Google](https://www.kaggle.com/lava18/google-play-store-apps)** 10k data set.\n",
    "2. **[Apple](https://www.kaggle.com/ramamet4/app-store-apple-data-set-10k-apps)** 7k data set.\n",
    "\n",
    "In these datasets I m going to analyze apps that are free to downlowd and install. These apps are considered as ones that are having main source of revenue from in-app adds.\n",
    "\n",
    "There are many apps in different kind of languages. This project will analyze only apps in English.\n",
    "\n",
    "\n",
    "## Opening and exploring data\n",
    "\n",
    "In March 2021 there are 1,96 milion apps in the Apple App Store and 2,87 milion apps in the Google Play Store. To manage such big amount of datas takes a time, so within this project I m going to check only samples of data mentioned above."
   ],
   "metadata": {}
  },
  {
   "cell_type": "code",
   "execution_count": 3,
   "source": [
    "from csv import reader\n",
    "\n",
    "# Apple apps dataset opening #\n",
    "open_file = open('AppleStore.csv')\n",
    "read_file = reader(open_file)\n",
    "apple = list(read_file)\n",
    "apple_header = apple[0]\n",
    "apple = apple[1:]\n",
    "\n",
    "# Android apps dataset opening #\n",
    "open_file = open('googleplaystore.csv')\n",
    "read_file = reader(open_file)\n",
    "android = list(read_file)\n",
    "android_header = android[0]\n",
    "android = android[1:]\n",
    "\n",
    "print(apple_header)\n",
    "print('\\n')\n",
    "print(android_header)\n",
    "print('\\n')\n",
    "print(apple[:5])\n",
    "print('\\n')\n",
    "print(android[:5])\n",
    "print('\\n')"
   ],
   "outputs": [
    {
     "output_type": "stream",
     "name": "stdout",
     "text": [
      "['id', 'track_name', 'size_bytes', 'currency', 'price', 'rating_count_tot', 'rating_count_ver', 'user_rating', 'user_rating_ver', 'ver', 'cont_rating', 'prime_genre', 'sup_devices.num', 'ipadSc_urls.num', 'lang.num', 'vpp_lic']\n",
      "\n",
      "\n",
      "['App', 'Category', 'Rating', 'Reviews', 'Size', 'Installs', 'Type', 'Price', 'Content Rating', 'Genres', 'Last Updated', 'Current Ver', 'Android Ver']\n",
      "\n",
      "\n",
      "[['284882215', 'Facebook', '389879808', 'USD', '0.0', '2974676', '212', '3.5', '3.5', '95.0', '4+', 'Social Networking', '37', '1', '29', '1'], ['389801252', 'Instagram', '113954816', 'USD', '0.0', '2161558', '1289', '4.5', '4.0', '10.23', '12+', 'Photo & Video', '37', '0', '29', '1'], ['529479190', 'Clash of Clans', '116476928', 'USD', '0.0', '2130805', '579', '4.5', '4.5', '9.24.12', '9+', 'Games', '38', '5', '18', '1'], ['420009108', 'Temple Run', '65921024', 'USD', '0.0', '1724546', '3842', '4.5', '4.0', '1.6.2', '9+', 'Games', '40', '5', '1', '1'], ['284035177', 'Pandora - Music & Radio', '130242560', 'USD', '0.0', '1126879', '3594', '4.0', '4.5', '8.4.1', '12+', 'Music', '37', '4', '1', '1']]\n",
      "\n",
      "\n",
      "[['Photo Editor & Candy Camera & Grid & ScrapBook', 'ART_AND_DESIGN', '4.1', '159', '19M', '10,000+', 'Free', '0', 'Everyone', 'Art & Design', 'January 7, 2018', '1.0.0', '4.0.3 and up'], ['Coloring book moana', 'ART_AND_DESIGN', '3.9', '967', '14M', '500,000+', 'Free', '0', 'Everyone', 'Art & Design;Pretend Play', 'January 15, 2018', '2.0.0', '4.0.3 and up'], ['U Launcher Lite – FREE Live Cool Themes, Hide Apps', 'ART_AND_DESIGN', '4.7', '87510', '8.7M', '5,000,000+', 'Free', '0', 'Everyone', 'Art & Design', 'August 1, 2018', '1.2.4', '4.0.3 and up'], ['Sketch - Draw & Paint', 'ART_AND_DESIGN', '4.5', '215644', '25M', '50,000,000+', 'Free', '0', 'Teen', 'Art & Design', 'June 8, 2018', 'Varies with device', '4.2 and up'], ['Pixel Draw - Number Art Coloring Book', 'ART_AND_DESIGN', '4.3', '967', '2.8M', '100,000+', 'Free', '0', 'Everyone', 'Art & Design;Creativity', 'June 20, 2018', '1.1', '4.4 and up']]\n",
      "\n",
      "\n"
     ]
    }
   ],
   "metadata": {}
  },
  {
   "cell_type": "markdown",
   "source": [
    "With the explore() function I am trying to understand few rows of the dataset. "
   ],
   "metadata": {}
  },
  {
   "cell_type": "code",
   "execution_count": 4,
   "source": [
    "def explore_data(dataset, start, end, rows_and_columns=False):\n",
    "    data_slice = dataset[start:end]\n",
    "    for row in data_slice:\n",
    "        print(row)\n",
    "        print('\\n')\n",
    "    \n",
    "    if rows_and_columns:\n",
    "        print('Number of rows', len(dataset))\n",
    "        print('Number of columns', len(dataset[0]))\n",
    "\n",
    "        \n",
    "#app store #\n",
    "print(apple_header)\n",
    "print('\\n')\n",
    "explore_data(apple, 0, 3, True)"
   ],
   "outputs": [
    {
     "output_type": "stream",
     "name": "stdout",
     "text": [
      "['id', 'track_name', 'size_bytes', 'currency', 'price', 'rating_count_tot', 'rating_count_ver', 'user_rating', 'user_rating_ver', 'ver', 'cont_rating', 'prime_genre', 'sup_devices.num', 'ipadSc_urls.num', 'lang.num', 'vpp_lic']\n",
      "\n",
      "\n",
      "['284882215', 'Facebook', '389879808', 'USD', '0.0', '2974676', '212', '3.5', '3.5', '95.0', '4+', 'Social Networking', '37', '1', '29', '1']\n",
      "\n",
      "\n",
      "['389801252', 'Instagram', '113954816', 'USD', '0.0', '2161558', '1289', '4.5', '4.0', '10.23', '12+', 'Photo & Video', '37', '0', '29', '1']\n",
      "\n",
      "\n",
      "['529479190', 'Clash of Clans', '116476928', 'USD', '0.0', '2130805', '579', '4.5', '4.5', '9.24.12', '9+', 'Games', '38', '5', '18', '1']\n",
      "\n",
      "\n",
      "Number of rows 7197\n",
      "Number of columns 16\n"
     ]
    }
   ],
   "metadata": {}
  },
  {
   "cell_type": "code",
   "execution_count": 5,
   "source": [
    "# google play store #\n",
    "\n",
    "print(android_header)\n",
    "print('\\n')\n",
    "explore_data(android, 0, 3, True)"
   ],
   "outputs": [
    {
     "output_type": "stream",
     "name": "stdout",
     "text": [
      "['App', 'Category', 'Rating', 'Reviews', 'Size', 'Installs', 'Type', 'Price', 'Content Rating', 'Genres', 'Last Updated', 'Current Ver', 'Android Ver']\n",
      "\n",
      "\n",
      "['Photo Editor & Candy Camera & Grid & ScrapBook', 'ART_AND_DESIGN', '4.1', '159', '19M', '10,000+', 'Free', '0', 'Everyone', 'Art & Design', 'January 7, 2018', '1.0.0', '4.0.3 and up']\n",
      "\n",
      "\n",
      "['Coloring book moana', 'ART_AND_DESIGN', '3.9', '967', '14M', '500,000+', 'Free', '0', 'Everyone', 'Art & Design;Pretend Play', 'January 15, 2018', '2.0.0', '4.0.3 and up']\n",
      "\n",
      "\n",
      "['U Launcher Lite – FREE Live Cool Themes, Hide Apps', 'ART_AND_DESIGN', '4.7', '87510', '8.7M', '5,000,000+', 'Free', '0', 'Everyone', 'Art & Design', 'August 1, 2018', '1.2.4', '4.0.3 and up']\n",
      "\n",
      "\n",
      "Number of rows 10841\n",
      "Number of columns 13\n"
     ]
    }
   ],
   "metadata": {}
  },
  {
   "cell_type": "markdown",
   "source": [
    "### Finding and deleting wrong data \n",
    "\n",
    "In [discussion](https://www.kaggle.com/lava18/google-play-store-apps/discussion) under *Google Play Store data set* was mentioned row **10472** as the row where one entry is missing. \n",
    "\n",
    "Each row should normaly have 13 entries but this particular row has only 12 entries.\n",
    "\n",
    "To eliminate entry of this row *del* statement is used."
   ],
   "metadata": {}
  },
  {
   "cell_type": "code",
   "execution_count": 6,
   "source": [
    "for row in android:\n",
    "    headerlength = len(android_header)\n",
    "    rowlength = len(row)\n",
    "    \n",
    "    if rowlength != headerlength:\n",
    "        print(row)\n",
    "        print('\\n')\n",
    "        print(android.index(row))"
   ],
   "outputs": [
    {
     "output_type": "stream",
     "name": "stdout",
     "text": [
      "['Life Made WI-Fi Touchscreen Photo Frame', '1.9', '19', '3.0M', '1,000+', 'Free', '0', 'Everyone', '', 'February 11, 2018', '1.0.19', '4.0 and up']\n",
      "\n",
      "\n",
      "10472\n"
     ]
    }
   ],
   "metadata": {}
  },
  {
   "cell_type": "code",
   "execution_count": 7,
   "source": [
    "print(android[10472]) #wrong row\n",
    "print('\\n')\n",
    "print(android[0])   #correct row\n",
    "print('\\n')\n",
    "print(android_header)"
   ],
   "outputs": [
    {
     "output_type": "stream",
     "name": "stdout",
     "text": [
      "['Life Made WI-Fi Touchscreen Photo Frame', '1.9', '19', '3.0M', '1,000+', 'Free', '0', 'Everyone', '', 'February 11, 2018', '1.0.19', '4.0 and up']\n",
      "\n",
      "\n",
      "['Photo Editor & Candy Camera & Grid & ScrapBook', 'ART_AND_DESIGN', '4.1', '159', '19M', '10,000+', 'Free', '0', 'Everyone', 'Art & Design', 'January 7, 2018', '1.0.0', '4.0.3 and up']\n",
      "\n",
      "\n",
      "['App', 'Category', 'Rating', 'Reviews', 'Size', 'Installs', 'Type', 'Price', 'Content Rating', 'Genres', 'Last Updated', 'Current Ver', 'Android Ver']\n"
     ]
    }
   ],
   "metadata": {}
  },
  {
   "cell_type": "code",
   "execution_count": 8,
   "source": [
    "print(len(android)) #nr of rows before using del statement\n",
    "del android[10472]  #run this row just once !!! 10840 after executed row\n",
    "print(len(android)) #nr of rows after using del statement"
   ],
   "outputs": [
    {
     "output_type": "stream",
     "name": "stdout",
     "text": [
      "10841\n",
      "10840\n"
     ]
    }
   ],
   "metadata": {}
  },
  {
   "cell_type": "markdown",
   "source": [
    "### Removing duplicate entries ###\n",
    "\n",
    "In *Google Apps* dataset there is a chance that some apps have more than one entries. Let´s check if it´s true and find number of unique and number of duplicate app entries."
   ],
   "metadata": {}
  },
  {
   "cell_type": "code",
   "execution_count": 9,
   "source": [
    "duplicate = []\n",
    "unique = []\n",
    "\n",
    "for row in android:\n",
    "    if row[0] in unique:\n",
    "        duplicate.append(row[0])\n",
    "    else:\n",
    "        unique.append(row[0])\n",
    "        \n",
    "print('Number of duplicate apps', len(duplicate))\n",
    "print('Number of unique apps', len(unique))\n",
    "print('\\n')\n",
    "print('Example of duplicate apps', duplicate[:15])"
   ],
   "outputs": [
    {
     "output_type": "stream",
     "name": "stdout",
     "text": [
      "Number of duplicate apps 1181\n",
      "Number of unique apps 9659\n",
      "\n",
      "\n",
      "Example of duplicate apps ['Quick PDF Scanner + OCR FREE', 'Box', 'Google My Business', 'ZOOM Cloud Meetings', 'join.me - Simple Meetings', 'Box', 'Zenefits', 'Google Ads', 'Google My Business', 'Slack', 'FreshBooks Classic', 'Insightly CRM', 'QuickBooks Accounting: Invoicing & Expenses', 'HipChat - Chat Built for Teams', 'Xero Accounting Software']\n"
     ]
    }
   ],
   "metadata": {}
  },
  {
   "cell_type": "markdown",
   "source": [
    "From result above we can see that there are aprox. 10% of duplicates apps. Those duplicates will be removed based on *'Reviews'* value. I will keep the entry with the latest (highest) review value and other entries will be removed. "
   ],
   "metadata": {}
  },
  {
   "cell_type": "code",
   "execution_count": 10,
   "source": [
    "for row in android:\n",
    "    if row[0] == \"Google Ads\":\n",
    "        print(row)\n",
    "        print('\\n')"
   ],
   "outputs": [
    {
     "output_type": "stream",
     "name": "stdout",
     "text": [
      "['Google Ads', 'BUSINESS', '4.3', '29313', '20M', '5,000,000+', 'Free', '0', 'Everyone', 'Business', 'July 30, 2018', '1.12.0', '4.0.3 and up']\n",
      "\n",
      "\n",
      "['Google Ads', 'BUSINESS', '4.3', '29313', '20M', '5,000,000+', 'Free', '0', 'Everyone', 'Business', 'July 30, 2018', '1.12.0', '4.0.3 and up']\n",
      "\n",
      "\n",
      "['Google Ads', 'BUSINESS', '4.3', '29331', '20M', '5,000,000+', 'Free', '0', 'Everyone', 'Business', 'July 30, 2018', '1.12.0', '4.0.3 and up']\n",
      "\n",
      "\n"
     ]
    }
   ],
   "metadata": {}
  },
  {
   "cell_type": "markdown",
   "source": [
    "Above you can see an example of duplicate entry. Here we have **Google Ads** app that has 3 entries. Entry with *29331* reviews  is the one I´ll keep. \n",
    "\n",
    "Below is created a dictionary with highest number of review of each unique app name."
   ],
   "metadata": {}
  },
  {
   "cell_type": "code",
   "execution_count": 11,
   "source": [
    "reviews_max = {}\n",
    "\n",
    "for row in android:\n",
    "    name = row[0]\n",
    "    n_reviews = float(row[3])\n",
    "    \n",
    "    #checking review value for each entry and appending those one\n",
    "    #with the highest review to a dictionary\n",
    "    if name in reviews_max and reviews_max[name] < n_reviews:\n",
    "        reviews_max[name] = n_reviews\n",
    "    \n",
    "    #new entries are appended to dictionary\n",
    "    elif name not in reviews_max:\n",
    "        reviews_max[name] = n_reviews\n",
    "    \n",
    "print('Number of apps in review_max: ', len(reviews_max))"
   ],
   "outputs": [
    {
     "output_type": "stream",
     "name": "stdout",
     "text": [
      "Number of apps in review_max:  9659\n"
     ]
    }
   ],
   "metadata": {}
  },
  {
   "cell_type": "markdown",
   "source": [
    "New dictionary was created above with unique apps as the key with it´s max review which help delete duplicate apps."
   ],
   "metadata": {}
  },
  {
   "cell_type": "code",
   "execution_count": 12,
   "source": [
    "android_clean = [] #new list for cleaned data\n",
    "already_added = [] #for storing app names\n",
    "\n",
    "for row in android:\n",
    "    name = row[0]\n",
    "    n_reviews = float(row[3])\n",
    "    \n",
    "    if n_reviews == reviews_max[name] and name not in already_added:\n",
    "        android_clean.append(row)\n",
    "        already_added.append(row[0])\n",
    "        \n",
    "print(len(android_clean))\n",
    "    "
   ],
   "outputs": [
    {
     "output_type": "stream",
     "name": "stdout",
     "text": [
      "9659\n"
     ]
    }
   ],
   "metadata": {}
  },
  {
   "cell_type": "markdown",
   "source": [
    "Using the max review dictionary we compare the values with the actual dataset 'review' values and append the unique matches into the `android_clean[]` list of lists. In order to avoid re addition of any app, I keep track of cleaned app names through `already_added[]`."
   ],
   "metadata": {}
  },
  {
   "cell_type": "markdown",
   "source": [
    "Now is time to check duplicates in **Appstore Dataset**"
   ],
   "metadata": {}
  },
  {
   "cell_type": "code",
   "execution_count": 13,
   "source": [
    "duplicate = []\n",
    "unique = []\n",
    "\n",
    "for row in apple:\n",
    "    if row[0] in unique:\n",
    "        duplicate.append(row[0])\n",
    "    else:\n",
    "        unique.append(row[0])\n",
    "        \n",
    "print('Number of duplicate apps', len(duplicate))\n",
    "print('Number of unique apps', len(unique))\n",
    "print('\\n')\n",
    "print('Example of duplicate apps', duplicate[:15])"
   ],
   "outputs": [
    {
     "output_type": "stream",
     "name": "stdout",
     "text": [
      "Number of duplicate apps 0\n",
      "Number of unique apps 7197\n",
      "\n",
      "\n",
      "Example of duplicate apps []\n"
     ]
    }
   ],
   "metadata": {}
  },
  {
   "cell_type": "markdown",
   "source": [
    "In Appstore Dataset did not appear any duplicates."
   ],
   "metadata": {}
  },
  {
   "cell_type": "markdown",
   "source": [
    "### Removing Non-English Apps\n",
    " \n",
    "This analyze will work only with apps for English-speaking users. It means that app names should not have any other characters than english. \n",
    "\n",
    "For this purpose will be used `ord()` built-in function to find the unicode values of characters. Any character with codes greater than 127 can be eliminated since in ASCII coding all english characters are contained in the range *0 - 127*.\n",
    "\n",
    "Let´s try it first on few app names below."
   ],
   "metadata": {}
  },
  {
   "cell_type": "code",
   "execution_count": 14,
   "source": [
    "def english(string):\n",
    "    for element in string:\n",
    "        if ord(element) > 127:\n",
    "            return False\n",
    "    \n",
    "    return True\n",
    "\n",
    "#function output is checked for various inputs\n",
    "app1 = english('Instagram')\n",
    "app2 = english('爱奇艺PPS -《欢乐颂2》电视剧热播')\n",
    "app3 = english('Docs To Go™ Free Office Suite')\n",
    "app4 = english('Instachat 😜')\n",
    "\n",
    "print(app1, app2, app3, app4)"
   ],
   "outputs": [
    {
     "output_type": "stream",
     "name": "stdout",
     "text": [
      "True False False False\n"
     ]
    }
   ],
   "metadata": {}
  },
  {
   "cell_type": "markdown",
   "source": [
    "Apps Docs To Go™ Free Office Suite and Instachat 😜 are english apps but they contain special characters like ™ and 😜 in their names, which are out of ASCII 0 - 127 range, so the names might be eliminated from the list.\n",
    "\n",
    "To minimize the impact of data loss, I remove an app if its name has more than 3 characters with corresponding numbers falling outside the ASCII range. So this means all English apps with up to 3 emoji or other special characters will remain in the list."
   ],
   "metadata": {}
  },
  {
   "cell_type": "code",
   "execution_count": 15,
   "source": [
    "def only_english(a_string):\n",
    "    ch = 0\n",
    "    for element in a_string:\n",
    "        if ord(element) > 127:\n",
    "            ch += 1\n",
    "            if ch > 3:\n",
    "                return False\n",
    "    return True\n",
    "\n",
    "app5 = only_english('Instagram')\n",
    "app6 = only_english('爱奇艺PPS -《欢乐颂2》电视剧热播')\n",
    "app7 = only_english('Docs To Go™ Free Office Suite')\n",
    "app8 = only_english('Instachat 😜')\n",
    "\n",
    "print(app5, app6, app7, app8)"
   ],
   "outputs": [
    {
     "output_type": "stream",
     "name": "stdout",
     "text": [
      "True False True True\n"
     ]
    }
   ],
   "metadata": {}
  },
  {
   "cell_type": "markdown",
   "source": [
    "Result above showed that function `only_english` is more powerfull than `english` so that function can be used for the removal of Non English Apps."
   ],
   "metadata": {}
  },
  {
   "cell_type": "code",
   "execution_count": 16,
   "source": [
    "def remove_NonEnglish(dataset, name_index):\n",
    "    dataset_english = []  #list of english apps\n",
    "    \n",
    "    for row in dataset:\n",
    "        name = row[name_index]\n",
    "        if only_english(name) == True:\n",
    "            dataset_english.append(row)\n",
    "            \n",
    "    print('Number of rows before removal: ', len(dataset))\n",
    "    print('Number of rows after removal: ', len(dataset_english))\n",
    "    print('Number of removed rows: ', len(dataset) - len(dataset_english))\n",
    "    print('\\n')\n",
    "    \n",
    "    return dataset_english\n",
    "\n",
    "#calling function for both datasets\n",
    "apple_english = remove_NonEnglish(apple, 1)\n",
    "android_english = remove_NonEnglish(android_clean, 0)\n"
   ],
   "outputs": [
    {
     "output_type": "stream",
     "name": "stdout",
     "text": [
      "Number of rows before removal:  7197\n",
      "Number of rows after removal:  6183\n",
      "Number of removed rows:  1014\n",
      "\n",
      "\n",
      "Number of rows before removal:  9659\n",
      "Number of rows after removal:  9614\n",
      "Number of removed rows:  45\n",
      "\n",
      "\n"
     ]
    }
   ],
   "metadata": {}
  },
  {
   "cell_type": "markdown",
   "source": [
    "In last step there were succesfully removed **1014** non english apps from Apple dataset and **45** non english apps from Android dataset."
   ],
   "metadata": {}
  },
  {
   "cell_type": "markdown",
   "source": [
    "### Isolating apps which are free to download\n",
    "\n",
    "In this project we are interested only in free apps, so now I go through `price` column and isolate apps which are free to download."
   ],
   "metadata": {}
  },
  {
   "cell_type": "code",
   "execution_count": 17,
   "source": [
    "final_apple = []\n",
    "final_android = []\n",
    "\n",
    "for app in apple_english:\n",
    "    price = app[4]\n",
    "    if price == '0.0' or price == '$0':\n",
    "        final_apple.append(app)\n",
    "\n",
    "for app in android_english:\n",
    "    price = app[7]\n",
    "    if price == '0' or price == '$0':\n",
    "        final_android.append(app)\n",
    "        \n",
    "print('Free apps in Apple dataset: ', len(final_apple))\n",
    "print('Free apps in Android dataset: ', len(final_android))\n"
   ],
   "outputs": [
    {
     "output_type": "stream",
     "name": "stdout",
     "text": [
      "Free apps in Apple dataset:  3222\n",
      "Free apps in Android dataset:  8864\n"
     ]
    }
   ],
   "metadata": {}
  },
  {
   "cell_type": "markdown",
   "source": [
    "### Most common App by Genre\n",
    "\n",
    "In this step I need to build a frequency table for the `prime_genre`column of the App Store data set and for the `Genres` and `Category`columns of the Google Play data set.\n",
    " \n",
    "Two function will be built to analyze frequency tables:\n",
    "1. First function will generate frequency tables that show percentage\n",
    "2. Second function will display the percentage with descending order\n"
   ],
   "metadata": {}
  },
  {
   "cell_type": "code",
   "execution_count": 21,
   "source": [
    "def freq_table(dataset, index):\n",
    "    table = {}\n",
    "    total = 0\n",
    "    \n",
    "    #Appending values to table{} to create required frequency table\n",
    "    for row in dataset:\n",
    "        total += 1\n",
    "        value = row[index]\n",
    "        if value in table:\n",
    "            table[value] += 1\n",
    "        else:\n",
    "            table[value] = 1\n",
    "    \n",
    "    #Converting frequencies to percentage table\n",
    "    table_percentages = {}\n",
    "    for key in table:\n",
    "        percentage = (table[key] / total) * 100\n",
    "        table_percentages[key] = percentage \n",
    "    \n",
    "    return table_percentages\n",
    "\n",
    "\n",
    "def display_table(dataset, index):\n",
    "    table = freq_table(dataset, index) #Calling for Percentage table\n",
    "    table_display = []\n",
    "    \n",
    "    #Interchanging the values and keys position in list of tuples for easy sorting\n",
    "    for key in table:\n",
    "        key_val_as_tuple = (table[key], key)\n",
    "        table_display.append(key_val_as_tuple)\n",
    "    \n",
    "    #Display table in descending order using sort      \n",
    "    table_sorted = sorted(table_display, reverse=True)\n",
    "    \n",
    "    for entry in table_sorted:\n",
    "        #Displaying values as % upto 2 decimals using round()\n",
    "        print(entry[1], ':', round(entry[0],2), '%')\n"
   ],
   "outputs": [],
   "metadata": {}
  },
  {
   "cell_type": "markdown",
   "source": [
    "Checking frequency table for the *prime_gender* collumn of the App data set"
   ],
   "metadata": {}
  },
  {
   "cell_type": "code",
   "execution_count": 25,
   "source": [
    "display_table(final_apple, -5) "
   ],
   "outputs": [
    {
     "output_type": "stream",
     "name": "stdout",
     "text": [
      "Games : 58.16 %\n",
      "Entertainment : 7.88 %\n",
      "Photo & Video : 4.97 %\n",
      "Education : 3.66 %\n",
      "Social Networking : 3.29 %\n",
      "Shopping : 2.61 %\n",
      "Utilities : 2.51 %\n",
      "Sports : 2.14 %\n",
      "Music : 2.05 %\n",
      "Health & Fitness : 2.02 %\n",
      "Productivity : 1.74 %\n",
      "Lifestyle : 1.58 %\n",
      "News : 1.33 %\n",
      "Travel : 1.24 %\n",
      "Finance : 1.12 %\n",
      "Weather : 0.87 %\n",
      "Food & Drink : 0.81 %\n",
      "Reference : 0.56 %\n",
      "Business : 0.53 %\n",
      "Book : 0.43 %\n",
      "Navigation : 0.19 %\n",
      "Medical : 0.19 %\n",
      "Catalogs : 0.12 %\n"
     ]
    }
   ],
   "metadata": {}
  },
  {
   "cell_type": "markdown",
   "source": [
    "Result above showed, that among free apps in the App store, more than a half (58,16 %) are games. Second place is for entertainment with almost (8 %) and third is photo & video. Education is on the forth place with only 3,66 %.\n",
    "\n",
    "Let's now check the genres and category columns of the Google Play data set (because those two columns might be related)."
   ],
   "metadata": {}
  },
  {
   "cell_type": "code",
   "execution_count": 26,
   "source": [
    "display_table(final_android, 1) #category"
   ],
   "outputs": [
    {
     "output_type": "stream",
     "name": "stdout",
     "text": [
      "FAMILY : 18.91 %\n",
      "GAME : 9.72 %\n",
      "TOOLS : 8.46 %\n",
      "BUSINESS : 4.59 %\n",
      "LIFESTYLE : 3.9 %\n",
      "PRODUCTIVITY : 3.89 %\n",
      "FINANCE : 3.7 %\n",
      "MEDICAL : 3.53 %\n",
      "SPORTS : 3.4 %\n",
      "PERSONALIZATION : 3.32 %\n",
      "COMMUNICATION : 3.24 %\n",
      "HEALTH_AND_FITNESS : 3.08 %\n",
      "PHOTOGRAPHY : 2.94 %\n",
      "NEWS_AND_MAGAZINES : 2.8 %\n",
      "SOCIAL : 2.66 %\n",
      "TRAVEL_AND_LOCAL : 2.34 %\n",
      "SHOPPING : 2.25 %\n",
      "BOOKS_AND_REFERENCE : 2.14 %\n",
      "DATING : 1.86 %\n",
      "VIDEO_PLAYERS : 1.79 %\n",
      "MAPS_AND_NAVIGATION : 1.4 %\n",
      "FOOD_AND_DRINK : 1.24 %\n",
      "EDUCATION : 1.16 %\n",
      "ENTERTAINMENT : 0.96 %\n",
      "LIBRARIES_AND_DEMO : 0.94 %\n",
      "AUTO_AND_VEHICLES : 0.93 %\n",
      "HOUSE_AND_HOME : 0.82 %\n",
      "WEATHER : 0.8 %\n",
      "EVENTS : 0.71 %\n",
      "PARENTING : 0.65 %\n",
      "ART_AND_DESIGN : 0.64 %\n",
      "COMICS : 0.62 %\n",
      "BEAUTY : 0.6 %\n"
     ]
    }
   ],
   "metadata": {}
  },
  {
   "cell_type": "markdown",
   "source": [
    "On the first sight it looks much more optimistic than it was before in App Store. On the first place we have apps designed for Family (almost 19%) when Games are 2nd with (9,72 %). Further positions are for practical app categories like Tools, Business, Lifestyle. \n",
    "\n",
    "But when you open the Google Play store and get to the Family category you can see that aplications there are mostly games for kids. "
   ],
   "metadata": {}
  },
  {
   "cell_type": "code",
   "execution_count": 27,
   "source": [
    "display_table(final_android, -4)"
   ],
   "outputs": [
    {
     "output_type": "stream",
     "name": "stdout",
     "text": [
      "Tools : 8.45 %\n",
      "Entertainment : 6.07 %\n",
      "Education : 5.35 %\n",
      "Business : 4.59 %\n",
      "Productivity : 3.89 %\n",
      "Lifestyle : 3.89 %\n",
      "Finance : 3.7 %\n",
      "Medical : 3.53 %\n",
      "Sports : 3.46 %\n",
      "Personalization : 3.32 %\n",
      "Communication : 3.24 %\n",
      "Action : 3.1 %\n",
      "Health & Fitness : 3.08 %\n",
      "Photography : 2.94 %\n",
      "News & Magazines : 2.8 %\n",
      "Social : 2.66 %\n",
      "Travel & Local : 2.32 %\n",
      "Shopping : 2.25 %\n",
      "Books & Reference : 2.14 %\n",
      "Simulation : 2.04 %\n",
      "Dating : 1.86 %\n",
      "Arcade : 1.85 %\n",
      "Video Players & Editors : 1.77 %\n",
      "Casual : 1.76 %\n",
      "Maps & Navigation : 1.4 %\n",
      "Food & Drink : 1.24 %\n",
      "Puzzle : 1.13 %\n",
      "Racing : 0.99 %\n",
      "Role Playing : 0.94 %\n",
      "Libraries & Demo : 0.94 %\n",
      "Auto & Vehicles : 0.93 %\n",
      "Strategy : 0.91 %\n",
      "House & Home : 0.82 %\n",
      "Weather : 0.8 %\n",
      "Events : 0.71 %\n",
      "Adventure : 0.68 %\n",
      "Comics : 0.61 %\n",
      "Beauty : 0.6 %\n",
      "Art & Design : 0.6 %\n",
      "Parenting : 0.5 %\n",
      "Card : 0.45 %\n",
      "Casino : 0.43 %\n",
      "Trivia : 0.42 %\n",
      "Educational;Education : 0.39 %\n",
      "Board : 0.38 %\n",
      "Educational : 0.37 %\n",
      "Education;Education : 0.34 %\n",
      "Word : 0.26 %\n",
      "Casual;Pretend Play : 0.24 %\n",
      "Music : 0.2 %\n",
      "Racing;Action & Adventure : 0.17 %\n",
      "Puzzle;Brain Games : 0.17 %\n",
      "Entertainment;Music & Video : 0.17 %\n",
      "Casual;Brain Games : 0.14 %\n",
      "Casual;Action & Adventure : 0.14 %\n",
      "Arcade;Action & Adventure : 0.12 %\n",
      "Action;Action & Adventure : 0.1 %\n",
      "Educational;Pretend Play : 0.09 %\n",
      "Simulation;Action & Adventure : 0.08 %\n",
      "Parenting;Education : 0.08 %\n",
      "Entertainment;Brain Games : 0.08 %\n",
      "Board;Brain Games : 0.08 %\n",
      "Parenting;Music & Video : 0.07 %\n",
      "Educational;Brain Games : 0.07 %\n",
      "Casual;Creativity : 0.07 %\n",
      "Art & Design;Creativity : 0.07 %\n",
      "Education;Pretend Play : 0.06 %\n",
      "Role Playing;Pretend Play : 0.05 %\n",
      "Education;Creativity : 0.05 %\n",
      "Role Playing;Action & Adventure : 0.03 %\n",
      "Puzzle;Action & Adventure : 0.03 %\n",
      "Entertainment;Creativity : 0.03 %\n",
      "Entertainment;Action & Adventure : 0.03 %\n",
      "Educational;Creativity : 0.03 %\n",
      "Educational;Action & Adventure : 0.03 %\n",
      "Education;Music & Video : 0.03 %\n",
      "Education;Brain Games : 0.03 %\n",
      "Education;Action & Adventure : 0.03 %\n",
      "Adventure;Action & Adventure : 0.03 %\n",
      "Video Players & Editors;Music & Video : 0.02 %\n",
      "Sports;Action & Adventure : 0.02 %\n",
      "Simulation;Pretend Play : 0.02 %\n",
      "Puzzle;Creativity : 0.02 %\n",
      "Music;Music & Video : 0.02 %\n",
      "Entertainment;Pretend Play : 0.02 %\n",
      "Casual;Education : 0.02 %\n",
      "Board;Action & Adventure : 0.02 %\n",
      "Video Players & Editors;Creativity : 0.01 %\n",
      "Trivia;Education : 0.01 %\n",
      "Travel & Local;Action & Adventure : 0.01 %\n",
      "Tools;Education : 0.01 %\n",
      "Strategy;Education : 0.01 %\n",
      "Strategy;Creativity : 0.01 %\n",
      "Strategy;Action & Adventure : 0.01 %\n",
      "Simulation;Education : 0.01 %\n",
      "Role Playing;Brain Games : 0.01 %\n",
      "Racing;Pretend Play : 0.01 %\n",
      "Puzzle;Education : 0.01 %\n",
      "Parenting;Brain Games : 0.01 %\n",
      "Music & Audio;Music & Video : 0.01 %\n",
      "Lifestyle;Pretend Play : 0.01 %\n",
      "Lifestyle;Education : 0.01 %\n",
      "Health & Fitness;Education : 0.01 %\n",
      "Health & Fitness;Action & Adventure : 0.01 %\n",
      "Entertainment;Education : 0.01 %\n",
      "Communication;Creativity : 0.01 %\n",
      "Comics;Creativity : 0.01 %\n",
      "Casual;Music & Video : 0.01 %\n",
      "Card;Action & Adventure : 0.01 %\n",
      "Books & Reference;Education : 0.01 %\n",
      "Art & Design;Pretend Play : 0.01 %\n",
      "Art & Design;Action & Adventure : 0.01 %\n",
      "Arcade;Pretend Play : 0.01 %\n",
      "Adventure;Education : 0.01 %\n"
     ]
    }
   ],
   "metadata": {}
  },
  {
   "cell_type": "markdown",
   "source": [
    "There is not very clear the difference between *Genders* and *Category* columns, but one thing is noticeable, that *Genders* are having much more categories. \n"
   ],
   "metadata": {}
  },
  {
   "cell_type": "markdown",
   "source": [
    "### Popular Apps by Genre in the App Store\n",
    "When we want to check what apps are the most popular by genres, or which are having the most users, we needs to calculate the avg nr of installs for each app genre. This information is missing in App Store data set so that´s why there is need to calculate it. \n",
    "In Google Play data set this information is in *Installs* column."
   ],
   "metadata": {}
  },
  {
   "cell_type": "code",
   "execution_count": 32,
   "source": [
    "genres_ios = freq_table(final_apple, -5)\n",
    "\n",
    "for genre in genres_ios:\n",
    "    total = 0\n",
    "    len_genre = 0\n",
    "    for app in final_apple:\n",
    "        genre_app = app[-5]\n",
    "        if genre_app == genre:            \n",
    "            n_ratings = float(app[5])\n",
    "            total += n_ratings\n",
    "            len_genre += 1\n",
    "    avg_n_ratings = total / len_genre\n",
    "    print(genre, ':', round(avg_n_ratings, 2))"
   ],
   "outputs": [
    {
     "output_type": "stream",
     "name": "stdout",
     "text": [
      "Social Networking : 71548.35\n",
      "Photo & Video : 28441.54\n",
      "Games : 22788.67\n",
      "Music : 57326.53\n",
      "Reference : 74942.11\n",
      "Health & Fitness : 23298.02\n",
      "Weather : 52279.89\n",
      "Utilities : 18684.46\n",
      "Travel : 28243.8\n",
      "Shopping : 26919.69\n",
      "News : 21248.02\n",
      "Navigation : 86090.33\n",
      "Lifestyle : 16485.76\n",
      "Entertainment : 14029.83\n",
      "Food & Drink : 33333.92\n",
      "Sports : 23008.9\n",
      "Book : 39758.5\n",
      "Finance : 31467.94\n",
      "Education : 7003.98\n",
      "Productivity : 21028.41\n",
      "Business : 7491.12\n",
      "Catalogs : 4004.0\n",
      "Medical : 612.0\n"
     ]
    }
   ],
   "metadata": {}
  },
  {
   "cell_type": "markdown",
   "source": [
    "The result showed that navigation apps have the highest number of user reviews, but this might be a lot influenced by Waze and Google Maps applications which are having together almost half a milion user reviews, as you can see below.."
   ],
   "metadata": {}
  },
  {
   "cell_type": "code",
   "execution_count": 33,
   "source": [
    "for app in final_apple:\n",
    "    if app[-5] == 'Navigation':\n",
    "        print(app[1], ':', app[5]) # name and number of ratings"
   ],
   "outputs": [
    {
     "output_type": "stream",
     "name": "stdout",
     "text": [
      "Waze - GPS Navigation, Maps & Real-time Traffic : 345046\n",
      "Google Maps - Navigation & Transit : 154911\n",
      "Geocaching® : 12811\n",
      "CoPilot GPS – Car Navigation & Offline Maps : 3582\n",
      "ImmobilienScout24: Real Estate Search in Germany : 187\n",
      "Railway Route Search : 5\n"
     ]
    }
   ],
   "metadata": {}
  },
  {
   "cell_type": "markdown",
   "source": [
    "The same situation is for social networking apps, where the average number is influenced a lot by giants like Facebook, Pinteres, Skype... Same is for music, where are again another giants like Spotify, Shazam or Pandora who influenced numbers."
   ],
   "metadata": {}
  },
  {
   "cell_type": "code",
   "execution_count": 34,
   "source": [
    "for app in final_apple:\n",
    "  if app[-5] == 'Social Networking':\n",
    "    print(app[1], ':', app[5])"
   ],
   "outputs": [
    {
     "output_type": "stream",
     "name": "stdout",
     "text": [
      "Facebook : 2974676\n",
      "Pinterest : 1061624\n",
      "Skype for iPhone : 373519\n",
      "Messenger : 351466\n",
      "Tumblr : 334293\n",
      "WhatsApp Messenger : 287589\n",
      "Kik : 260965\n",
      "ooVoo – Free Video Call, Text and Voice : 177501\n",
      "TextNow - Unlimited Text + Calls : 164963\n",
      "Viber Messenger – Text & Call : 164249\n",
      "Followers - Social Analytics For Instagram : 112778\n",
      "MeetMe - Chat and Meet New People : 97072\n",
      "We Heart It - Fashion, wallpapers, quotes, tattoos : 90414\n",
      "InsTrack for Instagram - Analytics Plus More : 85535\n",
      "Tango - Free Video Call, Voice and Chat : 75412\n",
      "LinkedIn : 71856\n",
      "Match™ - #1 Dating App. : 60659\n",
      "Skype for iPad : 60163\n",
      "POF - Best Dating App for Conversations : 52642\n",
      "Timehop : 49510\n",
      "Find My Family, Friends & iPhone - Life360 Locator : 43877\n",
      "Whisper - Share, Express, Meet : 39819\n",
      "Hangouts : 36404\n",
      "LINE PLAY - Your Avatar World : 34677\n",
      "WeChat : 34584\n",
      "Badoo - Meet New People, Chat, Socialize. : 34428\n",
      "Followers + for Instagram - Follower Analytics : 28633\n",
      "GroupMe : 28260\n",
      "Marco Polo Video Walkie Talkie : 27662\n",
      "Miitomo : 23965\n",
      "SimSimi : 23530\n",
      "Grindr - Gay and same sex guys chat, meet and date : 23201\n",
      "Wishbone - Compare Anything : 20649\n",
      "imo video calls and chat : 18841\n",
      "After School - Funny Anonymous School News : 18482\n",
      "Quick Reposter - Repost, Regram and Reshare Photos : 17694\n",
      "Weibo HD : 16772\n",
      "Repost for Instagram : 15185\n",
      "Live.me – Live Video Chat & Make Friends Nearby : 14724\n",
      "Nextdoor : 14402\n",
      "Followers Analytics for Instagram - InstaReport : 13914\n",
      "YouNow: Live Stream Video Chat : 12079\n",
      "FollowMeter for Instagram - Followers Tracking : 11976\n",
      "LINE : 11437\n",
      "eHarmony™ Dating App - Meet Singles : 11124\n",
      "Discord - Chat for Gamers : 9152\n",
      "QQ : 9109\n",
      "Telegram Messenger : 7573\n",
      "Weibo : 7265\n",
      "Periscope - Live Video Streaming Around the World : 6062\n",
      "Chat for Whatsapp - iPad Version : 5060\n",
      "QQ HD : 5058\n",
      "Followers Analysis Tool For Instagram App Free : 4253\n",
      "live.ly - live video streaming : 4145\n",
      "Houseparty - Group Video Chat : 3991\n",
      "SOMA Messenger : 3232\n",
      "Monkey : 3060\n",
      "Down To Lunch : 2535\n",
      "Flinch - Video Chat Staring Contest : 2134\n",
      "Highrise - Your Avatar Community : 2011\n",
      "LOVOO - Dating Chat : 1985\n",
      "PlayStation®Messages : 1918\n",
      "BOO! - Video chat camera with filters & stickers : 1805\n",
      "Qzone : 1649\n",
      "Chatous - Chat with new people : 1609\n",
      "Kiwi - Q&A : 1538\n",
      "GhostCodes - a discovery app for Snapchat : 1313\n",
      "Jodel : 1193\n",
      "FireChat : 1037\n",
      "Google Duo - simple video calling : 1033\n",
      "Fiesta by Tango - Chat & Meet New People : 885\n",
      "Google Allo — smart messaging : 862\n",
      "Peach — share vividly : 727\n",
      "Hey! VINA - Where Women Meet New Friends : 719\n",
      "Battlefield™ Companion : 689\n",
      "All Devices for WhatsApp - Messenger for iPad : 682\n",
      "Chat for Pokemon Go - GoChat : 500\n",
      "IAmNaughty – Dating App to Meet New People Online : 463\n",
      "Qzone HD : 458\n",
      "Zenly - Locate your friends in realtime : 427\n",
      "League of Legends Friends : 420\n",
      "豆瓣 : 407\n",
      "Candid - Speak Your Mind Freely : 398\n",
      "知乎 : 397\n",
      "Selfeo : 366\n",
      "Fake-A-Location Free ™ : 354\n",
      "Popcorn Buzz - Free Group Calls : 281\n",
      "Fam — Group video calling for iMessage : 279\n",
      "QQ International : 274\n",
      "Ameba : 269\n",
      "SoundCloud Pulse: for creators : 240\n",
      "Tantan : 235\n",
      "Cougar Dating & Life Style App for Mature Women : 213\n",
      "Rawr Messenger - Dab your chat : 180\n",
      "WhenToPost: Best Time to Post Photos for Instagram : 158\n",
      "Inke—Broadcast an amazing life : 147\n",
      "Mustknow - anonymous video Q&A : 53\n",
      "CTFxCmoji : 39\n",
      "Lobi : 36\n",
      "Chain: Collaborate On MyVideo Story/Group Video : 35\n",
      "botman - Real time video chat : 7\n",
      "BestieBox : 0\n",
      "MATCH ON LINE chat : 0\n",
      "niconico ch : 0\n",
      "LINE BLOG : 0\n",
      "bit-tube - Live Stream Video Chat : 0\n"
     ]
    }
   ],
   "metadata": {}
  },
  {
   "cell_type": "code",
   "execution_count": 35,
   "source": [
    "for app in final_apple:\n",
    "  if app[-5] == 'Music':\n",
    "    print(app[1], ':', app[5])"
   ],
   "outputs": [
    {
     "output_type": "stream",
     "name": "stdout",
     "text": [
      "Pandora - Music & Radio : 1126879\n",
      "Spotify Music : 878563\n",
      "Shazam - Discover music, artists, videos & lyrics : 402925\n",
      "iHeartRadio – Free Music & Radio Stations : 293228\n",
      "SoundCloud - Music & Audio : 135744\n",
      "Magic Piano by Smule : 131695\n",
      "Smule Sing! : 119316\n",
      "TuneIn Radio - MLB NBA Audiobooks Podcasts Music : 110420\n",
      "Amazon Music : 106235\n",
      "SoundHound Song Search & Music Player : 82602\n",
      "Sonos Controller : 48905\n",
      "Bandsintown Concerts : 30845\n",
      "Karaoke - Sing Karaoke, Unlimited Songs! : 28606\n",
      "My Mixtapez Music : 26286\n",
      "Sing Karaoke Songs Unlimited with StarMaker : 26227\n",
      "Ringtones for iPhone & Ringtone Maker : 25403\n",
      "Musi - Unlimited Music For YouTube : 25193\n",
      "AutoRap by Smule : 18202\n",
      "Spinrilla - Mixtapes For Free : 15053\n",
      "Napster - Top Music & Radio : 14268\n",
      "edjing Mix:DJ turntable to remix and scratch music : 13580\n",
      "Free Music - MP3 Streamer & Playlist Manager Pro : 13443\n",
      "Free Piano app by Yokee : 13016\n",
      "Google Play Music : 10118\n",
      "Certified Mixtapes - Hip Hop Albums & Mixtapes : 9975\n",
      "TIDAL : 7398\n",
      "YouTube Music : 7109\n",
      "Nicki Minaj: The Empire : 5196\n",
      "Sounds app - Music And Friends : 5126\n",
      "SongFlip - Free Music Streamer : 5004\n",
      "Simple Radio - Live AM & FM Radio Stations : 4787\n",
      "Deezer - Listen to your Favorite Music & Playlists : 4677\n",
      "Ringtones for iPhone with Ringtone Maker : 4013\n",
      "Bose SoundTouch : 3687\n",
      "Amazon Alexa : 3018\n",
      "DatPiff : 2815\n",
      "Trebel Music - Unlimited Music Downloader : 2570\n",
      "Free Music Play - Mp3 Streamer & Player : 2496\n",
      "Acapella from PicPlayPost : 2487\n",
      "Coach Guitar - Lessons & Easy Tabs For Beginners : 2416\n",
      "Musicloud - MP3 and FLAC Music Player for Cloud Platforms. : 2211\n",
      "Piano - Play Keyboard Music Games with Magic Tiles : 1636\n",
      "Boom: Best Equalizer & Magical Surround Sound : 1375\n",
      "Music Freedom - Unlimited Free MP3 Music Streaming : 1246\n",
      "AmpMe - A Portable Social Party Music Speaker : 1047\n",
      "Medly - Music Maker : 933\n",
      "Bose Connect : 915\n",
      "Music Memos : 909\n",
      "UE BOOM : 612\n",
      "LiveMixtapes : 555\n",
      "NOISE : 355\n",
      "MP3 Music Player & Streamer for Clouds : 329\n",
      "Musical Video Maker - Create Music clips lip sync : 320\n",
      "Cloud Music Player - Downloader & Playlist Manager : 319\n",
      "Remixlive - Remix loops with pads : 288\n",
      "QQ音乐HD : 224\n",
      "Blocs Wave - Make & Record Music : 158\n",
      "PlayGround • Music At Your Fingertips : 150\n",
      "Music and Chill : 135\n",
      "The Singing Machine Mobile Karaoke App : 130\n",
      "radio.de - Der Radioplayer : 64\n",
      "Free Music -  Player & Streamer  for Dropbox, OneDrive & Google Drive : 46\n",
      "NRJ Radio : 38\n",
      "Smart Music: Streaming Videos and Radio : 17\n",
      "BOSS Tuner : 13\n",
      "PetitLyrics : 0\n"
     ]
    }
   ],
   "metadata": {}
  },
  {
   "cell_type": "markdown",
   "source": [
    "Reference apps are having 74,942 user ratings on average, which is also pretty hight. These numbers are skew up by the Bible app and Dictionary.com:"
   ],
   "metadata": {}
  },
  {
   "cell_type": "code",
   "execution_count": 36,
   "source": [
    "for app in final_apple:\n",
    "  if app[-5] == 'Reference':\n",
    "    print(app[1], ':', app[5])"
   ],
   "outputs": [
    {
     "output_type": "stream",
     "name": "stdout",
     "text": [
      "Bible : 985920\n",
      "Dictionary.com Dictionary & Thesaurus : 200047\n",
      "Dictionary.com Dictionary & Thesaurus for iPad : 54175\n",
      "Google Translate : 26786\n",
      "Muslim Pro: Ramadan 2017 Prayer Times, Azan, Quran : 18418\n",
      "New Furniture Mods - Pocket Wiki & Game Tools for Minecraft PC Edition : 17588\n",
      "Merriam-Webster Dictionary : 16849\n",
      "Night Sky : 12122\n",
      "City Maps for Minecraft PE - The Best Maps for Minecraft Pocket Edition (MCPE) : 8535\n",
      "LUCKY BLOCK MOD ™ for Minecraft PC Edition - The Best Pocket Wiki & Mods Installer Tools : 4693\n",
      "GUNS MODS for Minecraft PC Edition - Mods Tools : 1497\n",
      "Guides for Pokémon GO - Pokemon GO News and Cheats : 826\n",
      "WWDC : 762\n",
      "Horror Maps for Minecraft PE - Download The Scariest Maps for Minecraft Pocket Edition (MCPE) Free : 718\n",
      "VPN Express : 14\n",
      "Real Bike Traffic Rider Virtual Reality Glasses : 8\n",
      "教えて!goo : 0\n",
      "Jishokun-Japanese English Dictionary & Translator : 0\n"
     ]
    }
   ],
   "metadata": {}
  },
  {
   "cell_type": "markdown",
   "source": [
    "The main aim was to find popular genres amongs applications. But some genres might have higher average rates and by this they seems more popular than they really are. Those apps have higher rates thanks to few app giants which push the rates up. Maybe we could get better picture when we remove these extremly popular apps for each genre, and then check average again, but for now we´ll leave it."
   ],
   "metadata": {}
  },
  {
   "cell_type": "markdown",
   "source": [
    "### Popular apps by genre in Google Play\n",
    "Data from Google Play market contains data about the numbers of installs, so it should be easier to get a view about genre popularity. \n",
    "But as we can see below, install numbers are not unfortunatelly precise enough, because there are lot of values which are open-ended(100+, 1000+, 5000+, etc)."
   ],
   "metadata": {}
  },
  {
   "cell_type": "code",
   "execution_count": 37,
   "source": [
    "display_table(final_android, 5)"
   ],
   "outputs": [
    {
     "output_type": "stream",
     "name": "stdout",
     "text": [
      "1,000,000+ : 15.73 %\n",
      "100,000+ : 11.55 %\n",
      "10,000,000+ : 10.55 %\n",
      "10,000+ : 10.2 %\n",
      "1,000+ : 8.39 %\n",
      "100+ : 6.92 %\n",
      "5,000,000+ : 6.83 %\n",
      "500,000+ : 5.56 %\n",
      "50,000+ : 4.77 %\n",
      "5,000+ : 4.51 %\n",
      "10+ : 3.54 %\n",
      "500+ : 3.25 %\n",
      "50,000,000+ : 2.3 %\n",
      "100,000,000+ : 2.13 %\n",
      "50+ : 1.92 %\n",
      "5+ : 0.79 %\n",
      "1+ : 0.51 %\n",
      "500,000,000+ : 0.27 %\n",
      "1,000,000,000+ : 0.23 %\n",
      "0+ : 0.05 %\n",
      "0 : 0.01 %\n"
     ]
    }
   ],
   "metadata": {}
  },
  {
   "cell_type": "markdown",
   "source": [
    "Data are not clearly precise, because there is not clear wheather app with 100000+ installs has exactly 100000 installs or 200000 or even 350000 installs. Fortunately for our purpose we dont need very precise data, because we just want to know which genre attracts the most users.\n",
    "\n",
    "For calculation there is a need to convert install numbers to float - to do it we need to remove all commas and plus characters, otherwise an error will appear.  "
   ],
   "metadata": {}
  },
  {
   "cell_type": "code",
   "execution_count": 39,
   "source": [
    "categories_android = freq_table(final_android, 1)\n",
    "\n",
    "for category in categories_android:\n",
    "    total = 0\n",
    "    len_category = 0\n",
    "    for app in final_android:\n",
    "        category_app = app[1]\n",
    "        if category_app == category:            \n",
    "            n_installs = app[5]\n",
    "            n_installs = n_installs.replace(',', '')\n",
    "            n_installs = n_installs.replace('+', '')\n",
    "            total += float(n_installs)\n",
    "            len_category += 1\n",
    "    avg_n_installs = total / len_category\n",
    "    print(category, ':', round(avg_n_installs, 2))"
   ],
   "outputs": [
    {
     "output_type": "stream",
     "name": "stdout",
     "text": [
      "ART_AND_DESIGN : 1986335.09\n",
      "AUTO_AND_VEHICLES : 647317.82\n",
      "BEAUTY : 513151.89\n",
      "BOOKS_AND_REFERENCE : 8767811.89\n",
      "BUSINESS : 1712290.15\n",
      "COMICS : 817657.27\n",
      "COMMUNICATION : 38456119.17\n",
      "DATING : 854028.83\n",
      "EDUCATION : 1833495.15\n",
      "ENTERTAINMENT : 11640705.88\n",
      "EVENTS : 253542.22\n",
      "FINANCE : 1387692.48\n",
      "FOOD_AND_DRINK : 1924897.74\n",
      "HEALTH_AND_FITNESS : 4188821.99\n",
      "HOUSE_AND_HOME : 1331540.56\n",
      "LIBRARIES_AND_DEMO : 638503.73\n",
      "LIFESTYLE : 1437816.27\n",
      "GAME : 15588015.6\n",
      "FAMILY : 3695641.82\n",
      "MEDICAL : 120550.62\n",
      "SOCIAL : 23253652.13\n",
      "SHOPPING : 7036877.31\n",
      "PHOTOGRAPHY : 17840110.4\n",
      "SPORTS : 3638640.14\n",
      "TRAVEL_AND_LOCAL : 13984077.71\n",
      "TOOLS : 10801391.3\n",
      "PERSONALIZATION : 5201482.61\n",
      "PRODUCTIVITY : 16787331.34\n",
      "PARENTING : 542603.62\n",
      "WEATHER : 5074486.2\n",
      "VIDEO_PLAYERS : 24727872.45\n",
      "NEWS_AND_MAGAZINES : 9549178.47\n",
      "MAPS_AND_NAVIGATION : 4056941.77\n"
     ]
    }
   ],
   "metadata": {}
  },
  {
   "cell_type": "markdown",
   "source": [
    "Communications, Social and Photography are three top genres which attracts the most. For example in Communications those high numbers are pushed up again by few apps giants that have over five hundred milion installs or even over bilion installs.."
   ],
   "metadata": {}
  },
  {
   "cell_type": "code",
   "execution_count": 40,
   "source": [
    "for app in final_android:\n",
    "    if app[1] == 'COMMUNICATION' and (app[5] == '1,000,000,000+'\n",
    "                                 or app[5] == '500,000,000+'\n",
    "                                 or app[5] == '100,000,000+'):\n",
    "        print(app[0], ':', app[5])"
   ],
   "outputs": [
    {
     "output_type": "stream",
     "name": "stdout",
     "text": [
      "WhatsApp Messenger : 1,000,000,000+\n",
      "imo beta free calls and text : 100,000,000+\n",
      "Android Messages : 100,000,000+\n",
      "Google Duo - High Quality Video Calls : 500,000,000+\n",
      "Messenger – Text and Video Chat for Free : 1,000,000,000+\n",
      "imo free video calls and chat : 500,000,000+\n",
      "Skype - free IM & video calls : 1,000,000,000+\n",
      "Who : 100,000,000+\n",
      "GO SMS Pro - Messenger, Free Themes, Emoji : 100,000,000+\n",
      "LINE: Free Calls & Messages : 500,000,000+\n",
      "Google Chrome: Fast & Secure : 1,000,000,000+\n",
      "Firefox Browser fast & private : 100,000,000+\n",
      "UC Browser - Fast Download Private & Secure : 500,000,000+\n",
      "Gmail : 1,000,000,000+\n",
      "Hangouts : 1,000,000,000+\n",
      "Messenger Lite: Free Calls & Messages : 100,000,000+\n",
      "Kik : 100,000,000+\n",
      "KakaoTalk: Free Calls & Text : 100,000,000+\n",
      "Opera Mini - fast web browser : 100,000,000+\n",
      "Opera Browser: Fast and Secure : 100,000,000+\n",
      "Telegram : 100,000,000+\n",
      "Truecaller: Caller ID, SMS spam blocking & Dialer : 100,000,000+\n",
      "UC Browser Mini -Tiny Fast Private & Secure : 100,000,000+\n",
      "Viber Messenger : 500,000,000+\n",
      "WeChat : 100,000,000+\n",
      "Yahoo Mail – Stay Organized : 100,000,000+\n",
      "BBM - Free Calls & Messages : 100,000,000+\n"
     ]
    }
   ],
   "metadata": {}
  },
  {
   "cell_type": "markdown",
   "source": [
    "Let´s look on genre Books and Reference that looks also pretty popular with an average number of installs of 8,767,811. \n",
    "It's interesting to explore this in more depth, since we found this genre has some potential to work well on the App Store, and aim is to recommend an app genre that shows potential for being profitable on both the App Store and Google Play.\n",
    "\n",
    "Below some of the apps from this genre and number of installs:"
   ],
   "metadata": {}
  },
  {
   "cell_type": "code",
   "execution_count": 45,
   "source": [
    "for app in final_android:\n",
    "    if app[1] == 'BOOKS_AND_REFERENCE':\n",
    "        print(app[0], ':', app[5])"
   ],
   "outputs": [
    {
     "output_type": "stream",
     "name": "stdout",
     "text": [
      "E-Book Read - Read Book for free : 50,000+\n",
      "Download free book with green book : 100,000+\n",
      "Wikipedia : 10,000,000+\n",
      "Cool Reader : 10,000,000+\n",
      "Free Panda Radio Music : 100,000+\n",
      "Book store : 1,000,000+\n",
      "FBReader: Favorite Book Reader : 10,000,000+\n",
      "English Grammar Complete Handbook : 500,000+\n",
      "Free Books - Spirit Fanfiction and Stories : 1,000,000+\n",
      "Google Play Books : 1,000,000,000+\n",
      "AlReader -any text book reader : 5,000,000+\n",
      "Offline English Dictionary : 100,000+\n",
      "Offline: English to Tagalog Dictionary : 500,000+\n",
      "FamilySearch Tree : 1,000,000+\n",
      "Cloud of Books : 1,000,000+\n",
      "Recipes of Prophetic Medicine for free : 500,000+\n",
      "ReadEra – free ebook reader : 1,000,000+\n",
      "Anonymous caller detection : 10,000+\n",
      "Ebook Reader : 5,000,000+\n",
      "Litnet - E-books : 100,000+\n",
      "Read books online : 5,000,000+\n",
      "English to Urdu Dictionary : 500,000+\n",
      "eBoox: book reader fb2 epub zip : 1,000,000+\n",
      "English Persian Dictionary : 500,000+\n",
      "Flybook : 500,000+\n",
      "All Maths Formulas : 1,000,000+\n",
      "Ancestry : 5,000,000+\n",
      "HTC Help : 10,000,000+\n",
      "English translation from Bengali : 100,000+\n",
      "Pdf Book Download - Read Pdf Book : 100,000+\n",
      "Free Book Reader : 100,000+\n",
      "eBoox new: Reader for fb2 epub zip books : 50,000+\n",
      "Only 30 days in English, the guideline is guaranteed : 500,000+\n",
      "Moon+ Reader : 10,000,000+\n",
      "SH-02J Owner's Manual (Android 8.0) : 50,000+\n",
      "English-Myanmar Dictionary : 1,000,000+\n",
      "Golden Dictionary (EN-AR) : 1,000,000+\n",
      "All Language Translator Free : 1,000,000+\n",
      "Azpen eReader : 500,000+\n",
      "URBANO V 02 instruction manual : 100,000+\n",
      "Bible : 100,000,000+\n",
      "C Programs and Reference : 50,000+\n",
      "C Offline Tutorial : 1,000+\n",
      "C Programs Handbook : 50,000+\n",
      "Amazon Kindle : 100,000,000+\n",
      "Aab e Hayat Full Novel : 100,000+\n",
      "Aldiko Book Reader : 10,000,000+\n",
      "Google I/O 2018 : 500,000+\n",
      "R Language Reference Guide : 10,000+\n",
      "Learn R Programming Full : 5,000+\n",
      "R Programing Offline Tutorial : 1,000+\n",
      "Guide for R Programming : 5+\n",
      "Learn R Programming : 10+\n",
      "R Quick Reference Big Data : 1,000+\n",
      "V Made : 100,000+\n",
      "Wattpad 📖 Free Books : 100,000,000+\n",
      "Dictionary - WordWeb : 5,000,000+\n",
      "Guide (for X-MEN) : 100,000+\n",
      "AC Air condition Troubleshoot,Repair,Maintenance : 5,000+\n",
      "AE Bulletins : 1,000+\n",
      "Ae Allah na Dai (Rasa) : 10,000+\n",
      "50000 Free eBooks & Free AudioBooks : 5,000,000+\n",
      "Ag PhD Field Guide : 10,000+\n",
      "Ag PhD Deficiencies : 10,000+\n",
      "Ag PhD Planting Population Calculator : 1,000+\n",
      "Ag PhD Soybean Diseases : 1,000+\n",
      "Fertilizer Removal By Crop : 50,000+\n",
      "A-J Media Vault : 50+\n",
      "Al-Quran (Free) : 10,000,000+\n",
      "Al Quran (Tafsir & by Word) : 500,000+\n",
      "Al Quran Indonesia : 10,000,000+\n",
      "Al'Quran Bahasa Indonesia : 10,000,000+\n",
      "Al Quran Al karim : 1,000,000+\n",
      "Al-Muhaffiz : 50,000+\n",
      "Al Quran : EAlim - Translations & MP3 Offline : 5,000,000+\n",
      "Al-Quran 30 Juz free copies : 500,000+\n",
      "Koran Read &MP3 30 Juz Offline : 1,000,000+\n",
      "Hafizi Quran 15 lines per page : 1,000,000+\n",
      "Quran for Android : 10,000,000+\n",
      "Surah Al-Waqiah : 100,000+\n",
      "Hisnul Al Muslim - Hisn Invocations & Adhkaar : 100,000+\n",
      "Satellite AR : 1,000,000+\n",
      "Audiobooks from Audible : 100,000,000+\n",
      "Kinot & Eichah for Tisha B'Av : 10,000+\n",
      "AW Tozer Devotionals - Daily : 5,000+\n",
      "Tozer Devotional -Series 1 : 1,000+\n",
      "The Pursuit of God : 1,000+\n",
      "AY Sing : 5,000+\n",
      "Ay Hasnain k Nana Milad Naat : 10,000+\n",
      "Ay Mohabbat Teri Khatir Novel : 10,000+\n",
      "Arizona Statutes, ARS (AZ Law) : 1,000+\n",
      "Oxford A-Z of English Usage : 1,000,000+\n",
      "BD Fishpedia : 1,000+\n",
      "BD All Sim Offer : 10,000+\n",
      "Youboox - Livres, BD et magazines : 500,000+\n",
      "B&H Kids AR : 10,000+\n",
      "B y H Niños ES : 5,000+\n",
      "Dictionary.com: Find Definitions for English Words : 10,000,000+\n",
      "English Dictionary - Offline : 10,000,000+\n",
      "Bible KJV : 5,000,000+\n",
      "Borneo Bible, BM Bible : 10,000+\n",
      "MOD Black for BM : 100+\n",
      "BM Box : 1,000+\n",
      "Anime Mod for BM : 100+\n",
      "NOOK: Read eBooks & Magazines : 10,000,000+\n",
      "NOOK Audiobooks : 500,000+\n",
      "NOOK App for NOOK Devices : 500,000+\n",
      "Browsery by Barnes & Noble : 5,000+\n",
      "bp e-store : 1,000+\n",
      "Brilliant Quotes: Life, Love, Family & Motivation : 1,000,000+\n",
      "BR Ambedkar Biography & Quotes : 10,000+\n",
      "BU Alsace : 100+\n",
      "Catholic La Bu Zo Kam : 500+\n",
      "Khrifa Hla Bu (Solfa) : 10+\n",
      "Kristian Hla Bu : 10,000+\n",
      "SA HLA BU : 1,000+\n",
      "Learn SAP BW : 500+\n",
      "Learn SAP BW on HANA : 500+\n",
      "CA Laws 2018 (California Laws and Codes) : 5,000+\n",
      "Bootable Methods(USB-CD-DVD) : 10,000+\n",
      "cloudLibrary : 100,000+\n",
      "SDA Collegiate Quarterly : 500+\n",
      "Sabbath School : 100,000+\n",
      "Cypress College Library : 100+\n",
      "Stats Royale for Clash Royale : 1,000,000+\n",
      "GATE 21 years CS Papers(2011-2018 Solved) : 50+\n",
      "Learn CT Scan Of Head : 5,000+\n",
      "Easy Cv maker 2018 : 10,000+\n",
      "How to Write CV : 100,000+\n",
      "CW Nuclear : 1,000+\n",
      "CY Spray nozzle : 10+\n",
      "BibleRead En Cy Zh Yue : 5+\n",
      "CZ-Help : 5+\n",
      "Modlitební knížka CZ : 500+\n",
      "Guide for DB Xenoverse : 10,000+\n",
      "Guide for DB Xenoverse 2 : 10,000+\n",
      "Guide for IMS DB : 10+\n",
      "DC HSEMA : 5,000+\n",
      "DC Public Library : 1,000+\n",
      "Painting Lulu DC Super Friends : 1,000+\n",
      "Dictionary : 10,000,000+\n",
      "Fix Error Google Playstore : 1,000+\n",
      "D. H. Lawrence Poems FREE : 1,000+\n",
      "Bilingual Dictionary Audio App : 5,000+\n",
      "DM Screen : 10,000+\n",
      "wikiHow: how to do anything : 1,000,000+\n",
      "Dr. Doug's Tips : 1,000+\n",
      "Bible du Semeur-BDS (French) : 50,000+\n",
      "La citadelle du musulman : 50,000+\n",
      "DV 2019 Entry Guide : 10,000+\n",
      "DV 2019 - EDV Photo & Form : 50,000+\n",
      "DV 2018 Winners Guide : 1,000+\n",
      "EB Annual Meetings : 1,000+\n",
      "EC - AP & Telangana : 5,000+\n",
      "TN Patta Citta & EC : 10,000+\n",
      "AP Stamps and Registration : 10,000+\n",
      "CompactiMa EC pH Calibration : 100+\n",
      "EGW Writings 2 : 100,000+\n",
      "EGW Writings : 1,000,000+\n",
      "Bible with EGW Comments : 100,000+\n",
      "My Little Pony AR Guide : 1,000,000+\n",
      "SDA Sabbath School Quarterly : 500,000+\n",
      "Duaa Ek Ibaadat : 5,000+\n",
      "Spanish English Translator : 10,000,000+\n",
      "Dictionary - Merriam-Webster : 10,000,000+\n",
      "JW Library : 10,000,000+\n",
      "Oxford Dictionary of English : Free : 10,000,000+\n",
      "English Hindi Dictionary : 10,000,000+\n",
      "English to Hindi Dictionary : 5,000,000+\n",
      "EP Research Service : 1,000+\n",
      "Hymnes et Louanges : 100,000+\n",
      "EU Charter : 1,000+\n",
      "EU Data Protection : 1,000+\n",
      "EU IP Codes : 100+\n",
      "EW PDF : 5+\n",
      "BakaReader EX : 100,000+\n",
      "EZ Quran : 50,000+\n",
      "FA Part 1 & 2 Past Papers Solved Free – Offline : 5,000+\n",
      "La Fe de Jesus : 1,000+\n",
      "La Fe de Jesús : 500+\n",
      "Le Fe de Jesus : 500+\n",
      "Florida - Pocket Brainbook : 1,000+\n",
      "Florida Statutes (FL Code) : 1,000+\n",
      "English To Shona Dictionary : 10,000+\n",
      "Greek Bible FP (Audio) : 1,000+\n",
      "Golden Dictionary (FR-AR) : 500,000+\n",
      "Fanfic-FR : 5,000+\n",
      "Bulgarian French Dictionary Fr : 10,000+\n",
      "Chemin (fr) : 1,000+\n",
      "The SCP Foundation DB fr nn5n : 1,000+\n"
     ]
    }
   ],
   "metadata": {}
  },
  {
   "cell_type": "markdown",
   "source": [
    "This genre include some variety of apps: for instance apps for reading ebooks, dictionaries, various collection of libraries, etc. But still we have here some kinds of apps that are pushing up the numbers..."
   ],
   "metadata": {}
  },
  {
   "cell_type": "code",
   "execution_count": 46,
   "source": [
    "for app in final_android:\n",
    "    if app[1] == 'BOOKS_AND_REFERENCE' and (app[5] == '1,000,000,000+'\n",
    "                                       or app[5] == '500,000,000+'\n",
    "                                       or app[5] == '100,000,000+'):\n",
    "        print(app[0], ':', app[5])"
   ],
   "outputs": [
    {
     "output_type": "stream",
     "name": "stdout",
     "text": [
      "Google Play Books : 1,000,000,000+\n",
      "Bible : 100,000,000+\n",
      "Amazon Kindle : 100,000,000+\n",
      "Wattpad 📖 Free Books : 100,000,000+\n",
      "Audiobooks from Audible : 100,000,000+\n"
     ]
    }
   ],
   "metadata": {}
  },
  {
   "cell_type": "markdown",
   "source": [
    "Although there is only few such very popular apps, it looks that this genre still show a potential. Now we try to have a look on the apps, which are somewhere in the middle of popularity in terms of downloads [between 1,000,000 and 100,000,000]."
   ],
   "metadata": {}
  },
  {
   "cell_type": "code",
   "execution_count": 47,
   "source": [
    "for app in final_android:\n",
    "    if app[1] == 'BOOKS_AND_REFERENCE' and (app[5] == '1,000,000+'\n",
    "                                       or app[5] == '5,000,000+'\n",
    "                                       or app[5] == '10,000,000+'\n",
    "                                       or app[5] == '50,000,000+'):\n",
    "        print(app[0], ':', app[5])"
   ],
   "outputs": [
    {
     "output_type": "stream",
     "name": "stdout",
     "text": [
      "Wikipedia : 10,000,000+\n",
      "Cool Reader : 10,000,000+\n",
      "Book store : 1,000,000+\n",
      "FBReader: Favorite Book Reader : 10,000,000+\n",
      "Free Books - Spirit Fanfiction and Stories : 1,000,000+\n",
      "AlReader -any text book reader : 5,000,000+\n",
      "FamilySearch Tree : 1,000,000+\n",
      "Cloud of Books : 1,000,000+\n",
      "ReadEra – free ebook reader : 1,000,000+\n",
      "Ebook Reader : 5,000,000+\n",
      "Read books online : 5,000,000+\n",
      "eBoox: book reader fb2 epub zip : 1,000,000+\n",
      "All Maths Formulas : 1,000,000+\n",
      "Ancestry : 5,000,000+\n",
      "HTC Help : 10,000,000+\n",
      "Moon+ Reader : 10,000,000+\n",
      "English-Myanmar Dictionary : 1,000,000+\n",
      "Golden Dictionary (EN-AR) : 1,000,000+\n",
      "All Language Translator Free : 1,000,000+\n",
      "Aldiko Book Reader : 10,000,000+\n",
      "Dictionary - WordWeb : 5,000,000+\n",
      "50000 Free eBooks & Free AudioBooks : 5,000,000+\n",
      "Al-Quran (Free) : 10,000,000+\n",
      "Al Quran Indonesia : 10,000,000+\n",
      "Al'Quran Bahasa Indonesia : 10,000,000+\n",
      "Al Quran Al karim : 1,000,000+\n",
      "Al Quran : EAlim - Translations & MP3 Offline : 5,000,000+\n",
      "Koran Read &MP3 30 Juz Offline : 1,000,000+\n",
      "Hafizi Quran 15 lines per page : 1,000,000+\n",
      "Quran for Android : 10,000,000+\n",
      "Satellite AR : 1,000,000+\n",
      "Oxford A-Z of English Usage : 1,000,000+\n",
      "Dictionary.com: Find Definitions for English Words : 10,000,000+\n",
      "English Dictionary - Offline : 10,000,000+\n",
      "Bible KJV : 5,000,000+\n",
      "NOOK: Read eBooks & Magazines : 10,000,000+\n",
      "Brilliant Quotes: Life, Love, Family & Motivation : 1,000,000+\n",
      "Stats Royale for Clash Royale : 1,000,000+\n",
      "Dictionary : 10,000,000+\n",
      "wikiHow: how to do anything : 1,000,000+\n",
      "EGW Writings : 1,000,000+\n",
      "My Little Pony AR Guide : 1,000,000+\n",
      "Spanish English Translator : 10,000,000+\n",
      "Dictionary - Merriam-Webster : 10,000,000+\n",
      "JW Library : 10,000,000+\n",
      "Oxford Dictionary of English : Free : 10,000,000+\n",
      "English Hindi Dictionary : 10,000,000+\n",
      "English to Hindi Dictionary : 5,000,000+\n"
     ]
    }
   ],
   "metadata": {}
  },
  {
   "cell_type": "markdown",
   "source": [
    "This niche seems to be dominated by software for processing and reading ebooks, as well as various collections of libraries and dictionaries, so it's probably not a good idea to build similar apps since there'll be some significant competition.\n",
    "\n",
    "There are also quite a few apps built around the book Quran, which suggests that building an app around a popular book can be profitable. It seems that taking a popular book (perhaps a more recent book) and turning it into an app could be profitable for both the Google Play and the App Store markets.\n",
    "\n",
    "However, it looks like the market is already full of libraries, so we need to add some special features besides the raw version of the book. This might include daily quotes from the book, an audio version of the book, quizzes on the book, a forum where people can discuss the book, etc."
   ],
   "metadata": {}
  },
  {
   "cell_type": "markdown",
   "source": [
    "### Conclusion\n",
    "\n",
    "This project analyzed data about the App Store and Google Play Store, with the goal of recommend an app profile that can be profitable for both markets.\n",
    "\n",
    "Conclusion is that taking a popular book (perhaps a more recent book) and turning it into an app could be profitable for both the Google Play and the App Store markets. The markets are already full of libraries, so we need to add some special features besides the raw version of the book. "
   ],
   "metadata": {}
  }
 ],
 "metadata": {
  "orig_nbformat": 4,
  "language_info": {
   "name": "python",
   "version": "3.8.5",
   "mimetype": "text/x-python",
   "codemirror_mode": {
    "name": "ipython",
    "version": 3
   },
   "pygments_lexer": "ipython3",
   "nbconvert_exporter": "python",
   "file_extension": ".py"
  },
  "kernelspec": {
   "name": "python3",
   "display_name": "Python 3.8.5 32-bit"
  },
  "interpreter": {
   "hash": "8b41f4d6530bc57a6aedc0c3dde054089af55414122f1f48ab7c391db6137cbd"
  }
 },
 "nbformat": 4,
 "nbformat_minor": 2
}